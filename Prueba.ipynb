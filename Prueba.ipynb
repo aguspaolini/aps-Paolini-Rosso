{
 "cells": [
  {
   "cell_type": "markdown",
   "id": "95cd4ab4-5147-4252-bf8c-ba383190941a",
   "metadata": {},
   "source": [
    "<img src=\"./logo_UNSAM.jpg\" align=\"right\" width=\"150\" /> \n",
    "\n",
    "# TS5: Estimación espectral: Ancho de banda de señales reales \n",
    "\n",
    "**Alumnas:** María Victoria Poric y Agustina Rocío Paolini Rosso  \n",
    "**Carrera:** Ingeniería Biomédica    \n",
    "**Materia:** Análisis y Procesamiento de Señales    \n",
    "**Fecha:** Octubre 2025 "
   ]
  },
  {
   "cell_type": "markdown",
   "id": "93a922b7-6c6b-4ea8-9f80-c14b7362e7a6",
   "metadata": {},
   "source": [
    "## Consigna\n",
    "\n",
    "Tomar del repositorio `PDStestbench` los siguientes tres tipos de señales registradas:\n",
    "\n",
    "- Electrocardiograma (ECG): `ECG_TP4.mat` — Registro electrocardiográfico durante una prueba de esfuerzo.  \n",
    "- Pletismografía (PPG): `PPG.csv` — Señal registrada en reposo.  \n",
    "- Audio: Tres registros con voz y dos registros con silbidos.\n",
    "\n",
    "1) Estimar la densidad espectral de potencia (PSD) de cada señal utilizando alguno de los métodos vistos en clase:\n",
    "- Periodograma ventaneado  \n",
    "- Welch  \n",
    "- Blackman–Tukey\n",
    "\n",
    "2) A partir de la PSD:\n",
    "- Estimar el ancho de banda de cada señal.  \n",
    "- Presentar los resultados en una tabla comparativa.\n",
    "\n",
    "*Bonus*:\n",
    "- Proponer y analizar una señal adicional, explicando su origen y cómo fue digitalizada. Repetir el análisis de PSD y ancho de banda."
   ]
  },
  {
   "cell_type": "markdown",
   "id": "31329afa-7d44-4385-85a0-be749a24db8a",
   "metadata": {},
   "source": [
    "## Introducción\n",
    "El análisis espectral es una herramienta esencial en el procesamiento de señales, ya que permite estudiar cómo se distribuye la energía de una señal en el dominio de la frecuencia. En muchos casos, como en señales biomédicas o acústicas, la observación directa en el dominio temporal no es suficiente para comprender los fenómenos que intervienen en la generación de la señal. Por ejemplo, en un electrocardiograma (ECG) o una señal de pletismografía (PPG), los componentes de baja frecuencia están asociados a procesos fisiológicos lentos, mientras que las componentes de mayor frecuencia pueden corresponder a ruido o artefactos. En señales de audio, por otra parte, el contenido espectral define la calidad y las características tonales del sonido.\n",
    "\n",
    "Para caracterizar cuantitativamente este contenido frecuencial se utiliza la Densidad Espectral de Potencia (Power Spectral Density, PSD), la cual describe cómo se distribuye la potencia de la señal en función de la frecuencia. En otras palabras, la PSD permite identificar qué frecuencias contienen mayor energía, ofreciendo una visión más profunda de la dinámica interna de la señal.\n",
    "\n",
    "Matemáticamente, para una señal estacionaria $x(t)$ con transformada de Fourier $X(f)$, la PSD se define como:\n",
    "\n",
    "$$\n",
    "S_{xx}(f) = \\lim_{T \\to \\infty} \\frac{1}{T} \\, E\\left\\{ \\left| X_T(f) \\right|^2 \\right\\} \\tag{1}\n",
    "$$\n",
    "\n",
    "donde $X_T(f)$ es la transformada de Fourier de la señal truncada a un intervalo de duración $T$, y $E{⋅}$ denota el valor esperado. Sin embargo, en la práctica trabajamos con señales discretas y de duración finita, por lo que es necesario estimar la PSD a partir de los datos disponibles.\n",
    "\n",
    "El **método de Welch** es una de las técnicas más utilizadas para estimar la PSD de manera robusta. Surge como una mejora del periodograma clásico, que aunque conceptualmente simple, presenta alta variabilidad en sus estimaciones. Welch propone reducir dicha varianza mediante un proceso de promediado:\n",
    "\n",
    "1) *Segmentación*: la señal $x[n]$ se divide en varios segmentos solapados de longitud $L$.\n",
    "   \n",
    "2) *Ventaneo*: cada segmento se multiplica por una ventana (por ejemplo, Hamming o Hann) para minimizar las fugas espectrales causadas por la truncación.\n",
    "\n",
    "3) *Cálculo del periodograma*: se obtiene la potencia espectral de cada segmento:\n",
    "$$\n",
    "P_k(f) = \\frac{1}{L U} \\left| \\sum_{n=0}^{L-1} w[n] \\, x_k[n] \\, e^{-j 2 \\pi f n} \\right|^2 \\tag{2}\n",
    "$$\n",
    "donde $w[n]$ es la ventana aplicada, $U$ un factor de normalización, y $x_k[n]$ es el segmento k-ésimo de la señal.  \n",
    "\n",
    "4) *Promediado*: los periodogramas de todos los segmentos se promedian:\n",
    "$$\n",
    "S_{xx}(f) = \\frac{1}{K} \\sum_{k=1}^{K} P_k(f) \\tag{3}\n",
    "$$\n",
    "obteniendo así una estimación más suave y confiable de la densidad espectral.\n",
    "\n",
    "Este procedimiento mejora la estabilidad del resultado a costa de una ligera pérdida en la resolución en frecuencia, generando un equilibrio adecuado entre precisión y robustez.\n",
    "\n",
    "El método de Welch resulta particularmente apropiado para señales fisiológicas y de audio, ya que estas suelen ser cuasi-estacionarias (su estadística cambia lentamente en el tiempo), y el promediado permite reducir los efectos del ruido y las variaciones transitorias.\n",
    "\n",
    "A partir de la PSD estimada, es posible calcular el **ancho de banda efectivo** de cada señal, es decir, el rango de frecuencias donde se concentra la mayor parte de su energía. Este parámetro proporciona información relevante sobre la naturaleza de la señal y sobre los requisitos de muestreo y filtrado necesarios para su procesamiento.\n",
    "\n",
    "Una forma común de estimarlo es identificar el intervalo de frecuencias $[f1,f2]$ que contiene un porcentaje significativo (por ejemplo, el 95%) de la potencia total:\n",
    "\n",
    "$$\n",
    "\\int_{f_1}^{f_2} S_{xx}(f) \\, df = 0.95 \\int_{0}^{f_{\\text{max}}} S_{xx}(f) \\, df \\tag{4}\n",
    "$$\n",
    "\n",
    "Comparar el ancho de banda entre señales de distinta naturaleza (ECG, PPG y audio) permite comprender sus diferencias fundamentales: mientras que las señales fisiológicas suelen concentrar su energía en frecuencias bajas, las señales acústicas presentan una distribución más amplia y rica en armónicos.\n",
    "\n",
    "El objetivo principal de este trabajo es estimar y analizar la densidad espectral de potencia (PSD) de distintos tipos de señales, como la del electrocardiograma (ECG), pletismografía (PPG) y audio, utilizando el método de Welch como técnica de estimación. A partir de las PSD obtenidas, se busca determinar el ancho de banda característico de cada señal y comparar sus comportamientos espectrales, resaltando las diferencias entre señales fisiológicas y acústicas. De esta manera, el estudio permite no solo aplicar herramientas de procesamiento digital de señales vistas en clase, sino también interpretar los resultados desde un punto de vista práctico y fisiológico, comprendiendo cómo el contenido en frecuencia refleja las propiedades y el origen físico de cada señal.\n",
    "\n",
    "---\n",
    "## Análisis y desarrollo\n",
    "En primer lugar, se cargaron tres tipos de señales:\n",
    "\n",
    "- ECG (Electrocardiograma) con una frecuencia de muestreo de `fs = 1000 Hz`,\n",
    "\n",
    "- PPG (Pletismografía) con una frecuencia de muestreo de `fs = 400 Hz`,\n",
    "\n",
    "- Audio proveniente de un archivo .wav, del cual también se obtuvo automáticamente su frecuencia de muestreo."
   ]
  }
 ],
 "metadata": {
  "kernelspec": {
   "display_name": "Python 3 (ipykernel)",
   "language": "python",
   "name": "python3"
  },
  "language_info": {
   "codemirror_mode": {
    "name": "ipython",
    "version": 3
   },
   "file_extension": ".py",
   "mimetype": "text/x-python",
   "name": "python",
   "nbconvert_exporter": "python",
   "pygments_lexer": "ipython3",
   "version": "3.13.5"
  }
 },
 "nbformat": 4,
 "nbformat_minor": 5
}
